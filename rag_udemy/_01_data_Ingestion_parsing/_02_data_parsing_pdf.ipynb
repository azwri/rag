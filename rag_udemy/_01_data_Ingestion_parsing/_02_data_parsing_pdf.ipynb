{
 "cells": [
  {
   "cell_type": "code",
   "execution_count": 28,
   "id": "9f0252da",
   "metadata": {},
   "outputs": [],
   "source": [
    "## method 1 single pdf loader"
   ]
  },
  {
   "cell_type": "code",
   "execution_count": null,
   "id": "456966e1",
   "metadata": {},
   "outputs": [],
   "source": [
    "from langchain.document_loaders import (\n",
    "    PyPDFLoader,\n",
    "    PyMuPDFLoader\n",
    ")\n"
   ]
  },
  {
   "cell_type": "code",
   "execution_count": 20,
   "id": "fce52879",
   "metadata": {},
   "outputs": [
    {
     "name": "stdout",
     "output_type": "stream",
     "text": [
      "PyPDFLoader\n",
      "Number of pages: 15\n",
      "\n",
      "    len(documents): 15\n",
      "    ------------------------------------------------------\n",
      "    First page content: Provided proper attribution is provided, Google hereby grants permission to\n",
      "reproduce the tables and\n",
      "    ------------------------------------------------------\n",
      "    Metadata: {'producer': 'pdfTeX-1.40.25', 'creator': 'LaTeX with hyperref', 'creationdate': '2024-04-10T21:11:43+00:00', 'author': '', 'keywords': '', 'moddate': '2024-04-10T21:11:43+00:00', 'ptex.fullbanner': 'This is pdfTeX, Version 3.141592653-2.6-1.40.25 (TeX Live 2023) kpathsea version 6.3.5', 'subject': '', 'title': '', 'trapped': '/False', 'source': './data/pdf/attention.pdf', 'total_pages': 15, 'page': 0, 'page_label': '1'}\n",
      "    ------------------------------------------------------\n",
      "    Last page content: Input-Input Layer5\n",
      "The\n",
      "Law\n",
      "will\n",
      "never\n",
      "be\n",
      "perfect\n",
      ",\n",
      "but\n",
      "its\n",
      "application\n",
      "should\n",
      "be\n",
      "just\n",
      "-\n",
      "this\n",
      "is\n",
      "what\n",
      "    ------------------------------------------------------\n",
      "    Metadata: {'producer': 'pdfTeX-1.40.25', 'creator': 'LaTeX with hyperref', 'creationdate': '2024-04-10T21:11:43+00:00', 'author': '', 'keywords': '', 'moddate': '2024-04-10T21:11:43+00:00', 'ptex.fullbanner': 'This is pdfTeX, Version 3.141592653-2.6-1.40.25 (TeX Live 2023) kpathsea version 6.3.5', 'subject': '', 'title': '', 'trapped': '/False', 'source': './data/pdf/attention.pdf', 'total_pages': 15, 'page': 14, 'page_label': '15'}\n",
      "    ------------------------------------------------------\n",
      "\n",
      "    \n"
     ]
    }
   ],
   "source": [
    "print(\"PyPDFLoader\")\n",
    "\n",
    "try:\n",
    "    loader = PyPDFLoader(\"./data/pdf/attention.pdf\")\n",
    "    documents = loader.load()\n",
    "    print(f\"Number of pages: {len(documents)}\")\n",
    "    print(f\"\"\"\n",
    "    len(documents): {len(documents)}\n",
    "    ------------------------------------------------------\n",
    "    First page content: {documents[0].page_content[:100]}\n",
    "    ------------------------------------------------------\n",
    "    Metadata: {documents[0].metadata}\n",
    "    ------------------------------------------------------\n",
    "    Last page content: {documents[-1].page_content[:100]}\n",
    "    ------------------------------------------------------\n",
    "    Metadata: {documents[-1].metadata}\n",
    "    ------------------------------------------------------\n",
    "\n",
    "    \"\"\")\n",
    "except Exception as e:\n",
    "    print(f\"Error loading PDF with PyPDFLoader: {e}\")"
   ]
  },
  {
   "cell_type": "code",
   "execution_count": 27,
   "id": "f72461e1",
   "metadata": {},
   "outputs": [
    {
     "name": "stdout",
     "output_type": "stream",
     "text": [
      "PyPDFLoader\n",
      "Number of pages: 100\n",
      "\n",
      "    len(documents): 100\n",
      "    ------------------------------------------------------\n",
      "    First page content: /gid00138\n",
      " اﻟﺨﻄﺔ ﺗﺴﺎﻋﺪك ﻓﻲ إدارة اﻟﻤﻮارد\n",
      "واﺳﺘﻐﻼﻟﻬﺎ ﺑﺸﻜﻞ ﻣﺜﺎﻟﻲ\n",
      "اﻟﺨﻄﺔ ﺗﺴﺎﻋﺪك ﻓﻲ ﺗﺘﺒﻊ ﺗﻘﺪﻣﻚ\n",
      "اﻟﺨﻄﺔ ﺗﺨﺘﺒﺮ ﺟﺪوى ﻓﻜﺮة ﻋﻤﻠﻚ\n",
      "أﺳﺒﺎب وﺟﻮد ﺧﻄﺔ ﻋﻤﻞ\n",
      "اﻟﺨﻄﺔ ﻫﻲ دﻟﻴﻠﻚ\n",
      "    ------------------------------------------------------\n",
      "    Metadata: {'producer': 'Adobe PDF library 16.04', 'creator': 'Adobe Illustrator 26.1 (Windows)', 'creationdate': '2022-04-10T14:33:05+04:00', 'moddate': '2022-04-25T11:51:09+03:00', 'title': 'الدليل الارشادي- خطة العمل_ (2)', 'source': './data/pdf/دليل بناء خطة العمل.pdf', 'total_pages': 100, 'page': 7, 'page_label': '8'}\n",
      "    ------------------------------------------------------\n",
      "\n",
      "    \n"
     ]
    }
   ],
   "source": [
    "print(\"PyPDFLoader\")\n",
    "\n",
    "try:\n",
    "    loader = PyPDFLoader(\"./data/pdf/دليل بناء خطة العمل.pdf\")\n",
    "    documents = loader.load()\n",
    "    print(f\"Number of pages: {len(documents)}\")\n",
    "    print(f\"\"\"\n",
    "    len(documents): {len(documents)}\n",
    "    ------------------------------------------------------\n",
    "    First page content: {documents[7].page_content}\n",
    "    ------------------------------------------------------\n",
    "    Metadata: {documents[7].metadata}\n",
    "    ------------------------------------------------------\n",
    "\n",
    "    \"\"\")\n",
    "except Exception as e:\n",
    "    print(f\"Error loading PDF with PyPDFLoader: {e}\")"
   ]
  },
  {
   "cell_type": "code",
   "execution_count": 34,
   "id": "6d9a98cf",
   "metadata": {},
   "outputs": [],
   "source": [
    "## method 2 multiple pdf loader\n",
    "# !pip install  PyMuPDF"
   ]
  },
  {
   "cell_type": "code",
   "execution_count": 40,
   "id": "e851f732",
   "metadata": {},
   "outputs": [
    {
     "name": "stdout",
     "output_type": "stream",
     "text": [
      "Number of pages: 100\n",
      "\n",
      "    len(documents): 100\n",
      "    ------------------------------------------------------\n",
      "    Last page content: \u001a\n",
      " اﻟﺨﻄﺔ ﺗﺴﺎﻋﺪك ﻓﻲ إدارة اﻟﻤﻮارد\n",
      "واﺳﺘﻐﻼﻟﻬﺎ ﺑﺸﻜﻞ ﻣﺜﺎﻟﻲ\n",
      "اﻟﺨﻄﺔ ﺗﺴﺎﻋﺪك ﻓﻲ ﺗﺘﺒﻊ ﺗﻘﺪﻣﻚ\n",
      "اﻟﺨﻄﺔ ﺗﺨﺘﺒﺮ ﺟﺪوى ﻓﻜﺮة ﻋﻤﻠﻚ\n",
      "أﺳﺒﺎب وﺟﻮد ﺧﻄﺔ ﻋﻤﻞ\n",
      "اﻟﺨﻄﺔ ﻫﻲ دﻟﻴﻠﻚ\n",
      "    ------------------------------------------------------\n",
      "    Metadata: {'producer': 'Adobe PDF library 16.04', 'creator': 'Adobe Illustrator 26.1 (Windows)', 'creationdate': '2022-04-10T14:33:05+04:00', 'source': './data/pdf/دليل بناء خطة العمل.pdf', 'file_path': './data/pdf/دليل بناء خطة العمل.pdf', 'total_pages': 100, 'format': 'PDF 1.6', 'title': 'الدليل الارشادي- خطة العمل_ (2)', 'author': '', 'subject': '', 'keywords': '', 'moddate': '2022-04-25T11:51:09+03:00', 'trapped': '', 'modDate': \"D:20220425115109+03'00'\", 'creationDate': \"D:20220410143305+04'00'\", 'page': 7}\n",
      "    ------------------------------------------------------\n",
      "\n",
      "    \n"
     ]
    }
   ],
   "source": [
    "try:\n",
    "    pymupdf_loader = PyMuPDFLoader(\"./data/pdf/دليل بناء خطة العمل.pdf\")\n",
    "    documents = pymupdf_loader.load()\n",
    "    print(f\"Number of pages: {len(documents)}\")\n",
    "    print(f\"\"\"\n",
    "    len(documents): {len(documents)}\n",
    "    ------------------------------------------------------\n",
    "    Last page content: {documents[7].page_content}\n",
    "    ------------------------------------------------------\n",
    "    Metadata: {documents[7].metadata}\n",
    "    ------------------------------------------------------\n",
    "\n",
    "    \"\"\")\n",
    "except Exception as e:\n",
    "    print(f\"Error loading PDF with PyMuPDFLoader: {e}\")"
   ]
  },
  {
   "cell_type": "code",
   "execution_count": null,
   "id": "80a45d82",
   "metadata": {},
   "outputs": [],
   "source": [
    "## the difference between PyPDFLoader and PyMuPDFLoader\n",
    "# PyMuPDFLoader is generally faster and more efficient than PyPDFLoader, especially for larger PDF files.\n",
    "# PyMuPDFLoader can handle a wider range of PDF features and is less likely to encounter errors when parsing complex documents.\n",
    "# PyMuPDFLoader has better support for extracting text from PDFs with complex layouts, such as multi-column text or embedded images.\n",
    "# PyMuPDFLoader is actively maintained and updated, while PyPDFLoader may not receive as frequent updates.\n",
    "# However, PyPDFLoader may be sufficient for simpler PDF documents and may be easier to use for basic text extraction tasks."
   ]
  }
 ],
 "metadata": {
  "kernelspec": {
   "display_name": "rag_udemy",
   "language": "python",
   "name": "python3"
  },
  "language_info": {
   "codemirror_mode": {
    "name": "ipython",
    "version": 3
   },
   "file_extension": ".py",
   "mimetype": "text/x-python",
   "name": "python",
   "nbconvert_exporter": "python",
   "pygments_lexer": "ipython3",
   "version": "3.12.10"
  }
 },
 "nbformat": 4,
 "nbformat_minor": 5
}
