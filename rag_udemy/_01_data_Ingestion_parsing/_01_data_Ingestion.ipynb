{
 "cells": [
  {
   "cell_type": "code",
   "execution_count": 1,
   "metadata": {},
   "outputs": [],
   "source": [
    "\n",
    "## Introduction to Data Ingestion"
   ]
  },
  {
   "cell_type": "code",
   "execution_count": 2,
   "metadata": {},
   "outputs": [],
   "source": [
    "import os\n",
    "from typing import List, Dict, Any\n",
    "from unittest import loader\n",
    "import pandas as pd"
   ]
  },
  {
   "cell_type": "code",
   "execution_count": 3,
   "metadata": {},
   "outputs": [
    {
     "name": "stdout",
     "output_type": "stream",
     "text": [
      "Setup Complete\n"
     ]
    }
   ],
   "source": [
    "from langchain_core.documents import Document\n",
    "from langchain.text_splitter import (\n",
    "    RecursiveCharacterTextSplitter,\n",
    "    CharacterTextSplitter,\n",
    "    TokenTextSplitter,\n",
    ")\n",
    "print(\"Setup Complete\")"
   ]
  },
  {
   "cell_type": "code",
   "execution_count": 4,
   "metadata": {},
   "outputs": [],
   "source": [
    "## Understanding Document Structure In LangChain"
   ]
  },
  {
   "cell_type": "code",
   "execution_count": 5,
   "metadata": {},
   "outputs": [
    {
     "name": "stdout",
     "output_type": "stream",
     "text": [
      "page_content='This is the main content that will be embedded and searched.' metadata={'source': 'example.txt', 'page': 1, 'author': 'azwri', 'date_created': '2025-09-04', 'custom_field': 'any_value'}\n",
      "This is the main content that will be embedded and searched.\n",
      "{'source': 'example.txt', 'page': 1, 'author': 'azwri', 'date_created': '2025-09-04', 'custom_field': 'any_value'}\n",
      "example.txt\n",
      "\n",
      " Metadata is crucial for:\n",
      "- Filtering search results\n",
      "- Tracking document sources\n",
      "- Providing context in responses\n",
      "- Debugging and auditing\n",
      "<class 'langchain_core.documents.base.Document'>\n"
     ]
    }
   ],
   "source": [
    "### create a simple document\n",
    "doc = Document(\n",
    "    page_content=\"This is the main content that will be embedded and searched.\",\n",
    "    metadata={\n",
    "        \"source\": \"example.txt\", \n",
    "        \"page\": 1, \n",
    "        \"author\": \"azwri\",\n",
    "        \"date_created\": \"2025-09-04\",\n",
    "        \"custom_field\": \"any_value\"\n",
    "        }\n",
    ")\n",
    "print(doc)\n",
    "print(f\"{doc.page_content}\")\n",
    "print(f\"{doc.metadata}\")\n",
    "print(f\"{doc.metadata['source']}\")\n",
    "\n",
    "# why metadata is important?\n",
    "print(\"\\n Metadata is crucial for:\")\n",
    "print(\"- Filtering search results\")\n",
    "print(\"- Tracking document sources\")\n",
    "print(\"- Providing context in responses\")\n",
    "print(\"- Debugging and auditing\")\n",
    "print(type(doc))"
   ]
  },
  {
   "cell_type": "code",
   "execution_count": 6,
   "metadata": {},
   "outputs": [
    {
     "name": "stdout",
     "output_type": "stream",
     "text": [
      "Sample text files created.\n"
     ]
    }
   ],
   "source": [
    "### text file (.txt) - the simplest form of text data\n",
    "os.makedirs('data/text_files', exist_ok=True)\n",
    "\n",
    "simple_text = {\n",
    "    \"data/text_files/python_intro.txt\": \"\"\"Introduction to Python\n",
    "Python is a versatile programming language known for its simplicity and readability. It supports multiple programming paradigms, including procedural, object-oriented, and functional programming.\n",
    "\n",
    "Python is widely used in various fields such as web development, data analysis, artificial intelligence, scientific computing, and more. Its extensive standard library and active community contribute to its popularity.\n",
    "\n",
    "Key features of Python include:\n",
    "- Easy to learn and use\n",
    "- Extensive libraries and frameworks\n",
    "- Strong community support\n",
    "- Cross-platform compatibility\n",
    "- Integration capabilities with other languages and tools\n",
    "\n",
    "\"\"\",\n",
    "    \"data/text_files/machine_learning.txt\": \"\"\"Machine Learning Basics\n",
    "Machine learning is a subset of artificial intelligence that focuses on building systems that can learn from and make decisions based on data. It involves training algorithms on datasets to identify patterns and make predictions.\n",
    "There are several types of machine learning, including supervised learning, unsupervised learning, and reinforcement learning. Common algorithms include decision trees, support vector machines, and neural networks.\n",
    "Applications of machine learning span various domains such as healthcare, finance, marketing, and more. It is used for tasks like image recognition, natural language processing, recommendation systems, and fraud detection.\n",
    "\n",
    "Key concepts in machine learning include:\n",
    "- Training and testing datasets\n",
    "- Model evaluation and validation\n",
    "- Overfitting and underfitting\n",
    "- Feature selection and engineering\n",
    "- Hyperparameter tuning\n",
    "\n",
    "Types of Machine Learning:\n",
    "- Supervised Learning: Learning from labeled data\n",
    "- Unsupervised Learning: Finding patterns in unlabeled data\n",
    "- Reinforcement Learning: Learning through rewards and penalties\n",
    "\n",
    "\"\"\"}\n",
    "\n",
    "for file_path, content in simple_text.items():\n",
    "    with open(file_path, 'w', encoding='utf-8') as f:\n",
    "        f.write(content)\n",
    "\n",
    "print(\"Sample text files created.\")"
   ]
  },
  {
   "cell_type": "code",
   "execution_count": 7,
   "metadata": {},
   "outputs": [
    {
     "name": "stdout",
     "output_type": "stream",
     "text": [
      "[Document(metadata={'source': 'data/text_files/python_intro.txt'}, page_content='Introduction to Python\\nPython is a versatile programming language known for its simplicity and readability. It supports multiple programming paradigms, including procedural, object-oriented, and functional programming.\\n\\nPython is widely used in various fields such as web development, data analysis, artificial intelligence, scientific computing, and more. Its extensive standard library and active community contribute to its popularity.\\n\\nKey features of Python include:\\n- Easy to learn and use\\n- Extensive libraries and frameworks\\n- Strong community support\\n- Cross-platform compatibility\\n- Integration capabilities with other languages and tools\\n\\n')]\n",
      "Number of documents loaded: 1\n",
      "Content of the document:\n",
      "Introduction to Python\n",
      "Python is a versatile programming language known for its simplicity and readability. It supports multiple programming paradigms, including procedural, object-oriented, and functional programming.\n",
      "\n",
      "Python is widely used in various fields such as web development, data analysis, artificial intelligence, scientific computing, and more. Its extensive standard library and active community contribute to its popularity.\n",
      "\n",
      "Key features of Python include:\n",
      "- Easy to learn and use\n",
      "- Extensive libraries and frameworks\n",
      "- Strong community support\n",
      "- Cross-platform compatibility\n",
      "- Integration capabilities with other languages and tools\n",
      "\n",
      "\n",
      "Metadata of the document:\n",
      "{'source': 'data/text_files/python_intro.txt'}\n"
     ]
    }
   ],
   "source": [
    "### TextFileLoader - Read Single Text File\n",
    "from langchain.document_loaders import TextLoader\n",
    "\n",
    "loader = TextLoader(\"data/text_files/python_intro.txt\", encoding=\"utf-8\")\n",
    "documents = loader.load()\n",
    "print(documents)\n",
    "print(f\"Number of documents loaded: {len(documents)}\")\n",
    "print(f\"Content of the document:\\n{documents[0].page_content}\")\n",
    "print(f\"Metadata of the document:\\n{documents[0].metadata}\")\n"
   ]
  },
  {
   "cell_type": "code",
   "execution_count": 8,
   "metadata": {},
   "outputs": [
    {
     "name": "stderr",
     "output_type": "stream",
     "text": [
      "100%|██████████| 2/2 [00:00<00:00, 681.72it/s]"
     ]
    },
    {
     "name": "stdout",
     "output_type": "stream",
     "text": [
      "Number of documents loaded: 2\n",
      "\n",
      "Document 1 Content:\n",
      "Machine Learning Basics\n",
      "Machine learning is a subset of artificial intelligence that focuses on building systems that can learn from and make decisions based on data. It involves training algorithms o...\n",
      "Metadata: {'source': 'data\\\\text_files\\\\machine_learning.txt'}\n",
      "\n",
      "Document 2 Content:\n",
      "Introduction to Python\n",
      "Python is a versatile programming language known for its simplicity and readability. It supports multiple programming paradigms, including procedural, object-oriented, and funct...\n",
      "Metadata: {'source': 'data\\\\text_files\\\\python_intro.txt'}\n"
     ]
    },
    {
     "name": "stderr",
     "output_type": "stream",
     "text": [
      "\n"
     ]
    }
   ],
   "source": [
    "### DirectoryLoader - Read Multiple Text Files from a Directory\n",
    "from langchain_community.document_loaders import DirectoryLoader\n",
    "from langchain.document_loaders import TextLoader\n",
    "\n",
    "loader = DirectoryLoader(\n",
    "    \"data/text_files\", \n",
    "    glob=\"**/*.txt\",\n",
    "    loader_cls=TextLoader,\n",
    "    loader_kwargs={\"encoding\": \"utf-8\"},\n",
    "    show_progress=True\n",
    ")\n",
    "documents = loader.load()\n",
    "print(f\"Number of documents loaded: {len(documents)}\")\n",
    "for i, doc in enumerate(documents):\n",
    "    print(f\"\\nDocument {i+1} Content:\\n{doc.page_content[:200]}...\")  # Print first 200 characters\n",
    "    print(f\"Metadata: {doc.metadata}\")\n"
   ]
  },
  {
   "cell_type": "code",
   "execution_count": 9,
   "metadata": {},
   "outputs": [
    {
     "name": "stdout",
     "output_type": "stream",
     "text": [
      "\n",
      "Text splitting is important for:\n",
      "- Efficient processing and embedding\n",
      "- Improved search relevance\n",
      "- Handling model input size limitations\n",
      "- Better context management\n"
     ]
    }
   ],
   "source": [
    "### text splitting - splitting large documents into smaller chunks\n",
    "# Why text splitting is important?\n",
    "print(\"\\nText splitting is important for:\")\n",
    "print(\"- Efficient processing and embedding\")\n",
    "print(\"- Improved search relevance\")\n",
    "print(\"- Handling model input size limitations\")\n",
    "print(\"- Better context management\")"
   ]
  },
  {
   "cell_type": "code",
   "execution_count": 10,
   "metadata": {},
   "outputs": [
    {
     "name": "stdout",
     "output_type": "stream",
     "text": [
      "[Document(metadata={'source': 'data\\\\text_files\\\\machine_learning.txt'}, page_content='Machine Learning Basics\\nMachine learning is a subset of artificial intelligence that focuses on building systems that can learn from and make decisions based on data. It involves training algorithms on datasets to identify patterns and make predictions.\\nThere are several types of machine learning, including supervised learning, unsupervised learning, and reinforcement learning. Common algorithms include decision trees, support vector machines, and neural networks.\\nApplications of machine learning span various domains such as healthcare, finance, marketing, and more. It is used for tasks like image recognition, natural language processing, recommendation systems, and fraud detection.\\n\\nKey concepts in machine learning include:\\n- Training and testing datasets\\n- Model evaluation and validation\\n- Overfitting and underfitting\\n- Feature selection and engineering\\n- Hyperparameter tuning\\n\\nTypes of Machine Learning:\\n- Supervised Learning: Learning from labeled data\\n- Unsupervised Learning: Finding patterns in unlabeled data\\n- Reinforcement Learning: Learning through rewards and penalties\\n\\n'), Document(metadata={'source': 'data\\\\text_files\\\\python_intro.txt'}, page_content='Introduction to Python\\nPython is a versatile programming language known for its simplicity and readability. It supports multiple programming paradigms, including procedural, object-oriented, and functional programming.\\n\\nPython is widely used in various fields such as web development, data analysis, artificial intelligence, scientific computing, and more. Its extensive standard library and active community contribute to its popularity.\\n\\nKey features of Python include:\\n- Easy to learn and use\\n- Extensive libraries and frameworks\\n- Strong community support\\n- Cross-platform compatibility\\n- Integration capabilities with other languages and tools\\n\\n')]\n",
      "Machine Learning Basics\n",
      "Machine learning is a subset of artificial intelligence that focuses on building systems that can learn from and make decisions based on data. It involves training algorithms on datasets to identify patterns and make predictions.\n",
      "There are several types of machine learning, including supervised learning, unsupervised learning, and reinforcement learning. Common algorithms include decision trees, support vector machines, and neural networks.\n",
      "Applications of machine learning span various domains such as healthcare, finance, marketing, and more. It is used for tasks like image recognition, natural language processing, recommendation systems, and fraud detection.\n",
      "\n",
      "Key concepts in machine learning include:\n",
      "- Training and testing datasets\n",
      "- Model evaluation and validation\n",
      "- Overfitting and underfitting\n",
      "- Feature selection and engineering\n",
      "- Hyperparameter tuning\n",
      "\n",
      "Types of Machine Learning:\n",
      "- Supervised Learning: Learning from labeled data\n",
      "- Unsupervised Learning: Finding patterns in unlabeled data\n",
      "- Reinforcement Learning: Learning through rewards and penalties\n",
      "\n",
      "\n"
     ]
    }
   ],
   "source": [
    "from langchain.text_splitter import (\n",
    "    CharacterTextSplitter,\n",
    "    RecursiveCharacterTextSplitter,\n",
    "    TokenTextSplitter,\n",
    ")\n",
    "\n",
    "print(documents)\n",
    "print(documents[0].page_content)"
   ]
  },
  {
   "cell_type": "code",
   "execution_count": 30,
   "metadata": {},
   "outputs": [
    {
     "name": "stdout",
     "output_type": "stream",
     "text": [
      "Number of chunks created: 13\n",
      "\n",
      "Chunk 1:\n",
      "Machine Learning Basics\n",
      "Machine learning is a subset of artificial intelligence that focuses on\n",
      "\n",
      "Chunk 2:\n",
      "focuses on building systems that can learn from and make decisions based on data. It involves\n",
      "\n",
      "Chunk 3:\n",
      "involves training algorithms on datasets to identify patterns and make predictions.\n",
      "There are\n",
      "\n",
      "Chunk 4:\n",
      "are several types of machine learning, including supervised learning, unsupervised learning, and\n",
      "\n",
      "Chunk 5:\n",
      "and reinforcement learning. Common algorithms include decision trees, support vector machines, and\n",
      "\n",
      "Chunk 6:\n",
      "and neural networks.\n",
      "Applications of machine learning span various domains such as healthcare,\n",
      "\n",
      "Chunk 7:\n",
      "finance, marketing, and more. It is used for tasks like image recognition, natural language\n",
      "\n",
      "Chunk 8:\n",
      "language processing, recommendation systems, and fraud detection.\n",
      "\n",
      "Key concepts in machine learning\n",
      "\n",
      "Chunk 9:\n",
      "learning include:\n",
      "- Training and testing datasets\n",
      "- Model evaluation and validation\n",
      "- Overfitting\n",
      "\n",
      "Chunk 10:\n",
      "and underfitting\n",
      "- Feature selection and engineering\n",
      "- Hyperparameter tuning\n",
      "\n",
      "Types of Machine\n",
      "\n",
      "Chunk 11:\n",
      "of Machine Learning:\n",
      "- Supervised Learning: Learning from labeled data\n",
      "- Unsupervised Learning:\n",
      "\n",
      "Chunk 12:\n",
      "Learning: Finding patterns in unlabeled data\n",
      "- Reinforcement Learning: Learning through rewards and\n",
      "\n",
      "Chunk 13:\n",
      "and penalties\n"
     ]
    }
   ],
   "source": [
    "#### method 1: CharacterTextSplitter\n",
    "text_splitter = CharacterTextSplitter(\n",
    "    separator=\" \",\n",
    "    chunk_size=100,\n",
    "    chunk_overlap=10,\n",
    "    length_function=len,\n",
    ")\n",
    "texts = text_splitter.split_text(documents[0].page_content)\n",
    "print(f\"Number of chunks created: {len(texts)}\")\n",
    "\n",
    "for i, chunk in enumerate(texts):\n",
    "    print(f\"\\nChunk {i+1}:\\n{chunk}\")"
   ]
  },
  {
   "cell_type": "code",
   "execution_count": 26,
   "metadata": {},
   "outputs": [
    {
     "name": "stdout",
     "output_type": "stream",
     "text": [
      "Number of chunks created: 13\n",
      "\n",
      "Chunk 1 length 95:\n",
      "Machine Learning Basics\n",
      "Machine learning is a subset of artificial intelligence that focuses on\n",
      "\n",
      "Chunk 2 length 94:\n",
      "on building systems that can learn from and make decisions based on data. It involves training\n",
      "\n",
      "Chunk 3 length 98:\n",
      "training algorithms on datasets to identify patterns and make predictions.\n",
      "There are several types\n",
      "\n",
      "Chunk 4 length 98:\n",
      "types of machine learning, including supervised learning, unsupervised learning, and reinforcement\n",
      "\n",
      "Chunk 5 length 87:\n",
      "learning. Common algorithms include decision trees, support vector machines, and neural\n",
      "\n",
      "Chunk 6 length 99:\n",
      "neural networks.\n",
      "Applications of machine learning span various domains such as healthcare, finance,\n",
      "\n",
      "Chunk 7 length 91:\n",
      "finance, marketing, and more. It is used for tasks like image recognition, natural language\n",
      "\n",
      "Chunk 8 length 99:\n",
      "language processing, recommendation systems, and fraud detection.\n",
      "\n",
      "Key concepts in machine learning\n",
      "\n",
      "Chunk 9 length 97:\n",
      "learning include:\n",
      "- Training and testing datasets\n",
      "- Model evaluation and validation\n",
      "- Overfitting\n",
      "\n",
      "Chunk 10 length 94:\n",
      "and underfitting\n",
      "- Feature selection and engineering\n",
      "- Hyperparameter tuning\n",
      "\n",
      "Types of Machine\n",
      "\n",
      "Chunk 11 length 92:\n",
      "Machine Learning:\n",
      "- Supervised Learning: Learning from labeled data\n",
      "- Unsupervised Learning:\n",
      "\n",
      "Chunk 12 length 99:\n",
      "Learning: Finding patterns in unlabeled data\n",
      "- Reinforcement Learning: Learning through rewards and\n",
      "\n",
      "Chunk 13 length 13:\n",
      "and penalties\n"
     ]
    }
   ],
   "source": [
    "##### method 2: RecursiveCharacterTextSplitter\n",
    "text_splitter = RecursiveCharacterTextSplitter(\n",
    "    separators=[\" \"],\n",
    "    chunk_size=100,\n",
    "    chunk_overlap=10,\n",
    "    length_function=len,\n",
    ")\n",
    "\n",
    "texts = text_splitter.split_text(documents[0].page_content)\n",
    "print(f\"Number of chunks created: {len(texts)}\")\n",
    "for i, chunk in enumerate(texts):\n",
    "    print(f\"\\nChunk {i+1} length {len(chunk)}:\\n{chunk}\")\n"
   ]
  },
  {
   "cell_type": "code",
   "execution_count": 39,
   "metadata": {},
   "outputs": [
    {
     "name": "stdout",
     "output_type": "stream",
     "text": [
      "Number of chunks created: 3\n",
      "\n",
      "Toekn length 587 Chunk 1:\n",
      "Machine Learning Basics\n",
      "Machine learning is a subset of artificial intelligence that focuses on building systems that can learn from and make decisions based on data. It involves training algorithms on datasets to identify patterns and make predictions.\n",
      "There are several types of machine learning, including supervised learning, unsupervised learning, and reinforcement learning. Common algorithms include decision trees, support vector machines, and neural networks.\n",
      "Applications of machine learning span various domains such as healthcare, finance, marketing, and more. It is used for\n",
      "\n",
      "Toekn length 510 Chunk 2:\n",
      " machine learning span various domains such as healthcare, finance, marketing, and more. It is used for tasks like image recognition, natural language processing, recommendation systems, and fraud detection.\n",
      "\n",
      "Key concepts in machine learning include:\n",
      "- Training and testing datasets\n",
      "- Model evaluation and validation\n",
      "- Overfitting and underfitting\n",
      "- Feature selection and engineering\n",
      "- Hyperparameter tuning\n",
      "\n",
      "Types of Machine Learning:\n",
      "- Supervised Learning: Learning from labeled data\n",
      "- Unsupervised Learning:\n",
      "\n",
      "Toekn length 195 Chunk 3:\n",
      " Machine Learning:\n",
      "- Supervised Learning: Learning from labeled data\n",
      "- Unsupervised Learning: Finding patterns in unlabeled data\n",
      "- Reinforcement Learning: Learning through rewards and penalties\n",
      "\n",
      "\n"
     ]
    }
   ],
   "source": [
    "#### method 3: TokenTextSplitter\n",
    "text_splitter = TokenTextSplitter(\n",
    "    chunk_size=100,\n",
    "    chunk_overlap=20,\n",
    ")\n",
    "texts = text_splitter.split_text(documents[0].page_content)\n",
    "print(f\"Number of chunks created: {len(texts)}\")\n",
    "for i, chunk in enumerate(texts):\n",
    "    print(f\"\\nToekn length {len(chunk)} Chunk {i+1}:\\n{chunk}\")"
   ]
  }
 ],
 "metadata": {
  "kernelspec": {
   "display_name": "rag_udemy",
   "language": "python",
   "name": "python3"
  },
  "language_info": {
   "codemirror_mode": {
    "name": "ipython",
    "version": 3
   },
   "file_extension": ".py",
   "mimetype": "text/x-python",
   "name": "python",
   "nbconvert_exporter": "python",
   "pygments_lexer": "ipython3",
   "version": "3.12.10"
  }
 },
 "nbformat": 4,
 "nbformat_minor": 2
}
